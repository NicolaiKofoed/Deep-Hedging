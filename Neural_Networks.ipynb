{
 "cells": [
  {
   "cell_type": "code",
   "execution_count": 3,
   "metadata": {},
   "outputs": [],
   "source": [
    "def FFNN(output_activation,Input_shape,Output_shape,loss_function, learn_rate, neurons, n_hidden_layers):\n",
    "    inputs = []\n",
    "    predictions = []\n",
    "    \n",
    "    # Network structure\n",
    "    hidden_layers = []\n",
    "    for i in range(n_hidden_layers):\n",
    "        hidden_layers.append(Dense(neurons, activation='relu'))\n",
    "    output_layer = Dense(Output_shape, activation=output_activation)\n",
    "    \n",
    "    for i in range(steps):\n",
    "        sinput = Input(shape=(Input_shape,))\n",
    "        x = sinput\n",
    "        for j in range(n_hidden_layers):\n",
    "            x = hidden_layers[j](x)\n",
    "        sprediction = output_layer(x)\n",
    "        inputs.append(sinput)\n",
    "        predictions.append(sprediction)\n",
    "    \n",
    "    # Builds the model\n",
    "    predictions = Concatenate(axis=-1)(predictions)\n",
    "    model = Model(inputs=inputs, outputs=predictions)\n",
    "    opt = keras.optimizers.Adam(learning_rate=learn_rate)\n",
    "    model.compile(optimizer=opt, loss=loss_function, metrics=[])\n",
    "    return model"
   ]
  },
  {
   "cell_type": "code",
   "execution_count": 5,
   "metadata": {},
   "outputs": [],
   "source": [
    "def Recurrent_NN(output_act,input_shape,output_shape,loss_function, learn_rate, neurons,hidden_layers,RNN_type):\n",
    "    units = []\n",
    "    act = []\n",
    "    for i in range(hidden_layers):\n",
    "        units.append(neurons)\n",
    "        act.append('relu')\n",
    "    units.append(output_shape)\n",
    "    act.append(output_act)\n",
    "    inputs = Input(shape=(steps,input_shape))\n",
    "    if (RNN_type == 'simple'):\n",
    "        cells=[SimpleRNNCell(units[i],activation=act[i]) for i in range(hidden_layers+1)]\n",
    "    if (RNN_type == 'LSTM'):\n",
    "        cells=[LSTMCell(units[i],activation=act[i]) for i in range(hidden_layers+1)]\n",
    "    outputs=RNN(StackedRNNCells(cells),\n",
    "                stateful=False,\n",
    "                return_sequences=True,\n",
    "                return_state=False)(inputs)\n",
    "    model=Model(inputs=inputs, outputs=outputs)\n",
    "    opt = keras.optimizers.Adam(learning_rate=learn_rate)\n",
    "    model.compile(optimizer=opt,loss=loss_function)\n",
    "    return model"
   ]
  },
  {
   "cell_type": "code",
   "execution_count": null,
   "metadata": {},
   "outputs": [],
   "source": []
  }
 ],
 "metadata": {
  "kernelspec": {
   "display_name": "Python 3",
   "language": "python",
   "name": "python3"
  },
  "language_info": {
   "codemirror_mode": {
    "name": "ipython",
    "version": 3
   },
   "file_extension": ".py",
   "mimetype": "text/x-python",
   "name": "python",
   "nbconvert_exporter": "python",
   "pygments_lexer": "ipython3",
   "version": "3.8.8"
  }
 },
 "nbformat": 4,
 "nbformat_minor": 4
}
