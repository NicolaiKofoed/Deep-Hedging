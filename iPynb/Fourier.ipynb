{
 "cells": [
  {
   "cell_type": "markdown",
   "metadata": {},
   "source": [
    "# Rolf Fourier functions in python\n",
    "greektype=1 Price,\n",
    "greektype=2 delta,\n",
    "greektype=3 Gamma,\n",
    "greektype=4 Vega"
   ]
  },
  {
   "cell_type": "code",
   "execution_count": 5,
   "metadata": {},
   "outputs": [],
   "source": [
    "import numpy as np\n",
    "from scipy.stats import norm\n",
    "from scipy.optimize import brentq as root\n",
    "import scipy.integrate as integrate"
   ]
  },
  {
   "cell_type": "code",
   "execution_count": 6,
   "metadata": {},
   "outputs": [],
   "source": [
    "def HestonFourier(spot,timetoexp,strike,r,divyield,V,theta,kappa,sigma,rho,greek=1):\n",
    "    X = np.log(spot/strike)+(r-divyield)*timetoexp\n",
    "    kappahat = kappa-0.5*rho*sigma\n",
    "    xiDummy = kappahat**2+0.25*sigma**2\n",
    "    \n",
    "    def integrand(k):\n",
    "        xi = np.sqrt(k**2*sigma**2*(1-rho**2)+2j*k*sigma*rho*kappahat+xiDummy)\n",
    "        PsiP = -(1j*k*rho*sigma+kappahat)+xi\n",
    "        PsiM = (1j*k*rho*sigma+kappahat)+xi\n",
    "        alpha = -kappa*theta*(PsiP*timetoexp + 2*np.log((PsiM + PsiP*np.exp(-xi*timetoexp))/(2*xi)))/sigma**2\n",
    "        beta = -(1-np.exp(-xi*timetoexp))/(PsiM + PsiP*np.exp(-xi*timetoexp))\n",
    "        numerator = np.exp((-1j*k+0.5)*X+alpha+(k**2+0.25)*beta*V)\n",
    "\n",
    "        if(greek==1):\n",
    "            dummy = (numerator/(k**2+0.25)).real\n",
    "        if(greek==2):\n",
    "            dummy = ((0.5-1j*k)*numerator/(spot*(k**2+0.25))).real\n",
    "        if(greek==3):\n",
    "            dummy = -(numerator/spot**2).real\n",
    "        if(greek==4):\n",
    "            dummy = (numerator*beta).real\n",
    "    \n",
    "        return dummy\n",
    "\n",
    "    dummy=integrate.quad(integrand,-100,100)[0]\n",
    "\n",
    "    if (greek==1):\n",
    "        dummy = np.exp(-divyield*timetoexp)*spot-strike*np.exp(-r*timetoexp)*dummy/(2*np.pi)\n",
    "\n",
    "    if(greek==2):\n",
    "        dummy = np.exp(-divyield*timetoexp)-strike*np.exp(-r*timetoexp)*dummy/(2*np.pi)\n",
    "\n",
    "    if(greek==3):\n",
    "        dummy = -strike*np.exp(-r*timetoexp)*dummy/(2*np.pi)\n",
    "  \n",
    "    if(greek==4):\n",
    "        dummy = -strike*np.exp(-r*timetoexp)*dummy/(2*np.pi)\n",
    "\n",
    "    return dummy "
   ]
  },
  {
   "cell_type": "code",
   "execution_count": 7,
   "metadata": {},
   "outputs": [],
   "source": [
    "#function used to calculate the L(t,v) process\n",
    "def L(t,v):\n",
    "    return (v-theta)/kappa*(1-np.exp(-kappa*(T-t)))+theta*(T-t)\n",
    "\n",
    "#the derivative of L wrt. v\n",
    "def dL(t):\n",
    "    return (1-np.exp(-kappa*(T-t)))/kappa\n",
    "\n",
    "#delta_t^1\n",
    "def delta1(s,v,t):\n",
    "    timetoexp = T-t\n",
    "    return HestonFourier(spot=s, timetoexp=timetoexp, strike=K, r=r, divyield=0, V=v, theta=theta, kappa=kappa, sigma=sigma, rho=rho, greek=2)\n",
    "\n",
    "vdelta1 = np.vectorize(delta1)\n",
    "#delta_t^2\n",
    "def delta2(s,v,t):\n",
    "    timetoexp = T-t\n",
    "    return HestonFourier(spot=s, timetoexp=timetoexp, strike=K, r=r, divyield=0, V=v, theta=theta, kappa=kappa, sigma=sigma, rho=rho, greek=4)/dL(t)\n",
    "\n",
    "vdelta2 = np.vectorize(delta2)"
   ]
  },
  {
   "cell_type": "code",
   "execution_count": null,
   "metadata": {},
   "outputs": [],
   "source": []
  }
 ],
 "metadata": {
  "kernelspec": {
   "display_name": "Python 3",
   "language": "python",
   "name": "python3"
  },
  "language_info": {
   "codemirror_mode": {
    "name": "ipython",
    "version": 3
   },
   "file_extension": ".py",
   "mimetype": "text/x-python",
   "name": "python",
   "nbconvert_exporter": "python",
   "pygments_lexer": "ipython3",
   "version": "3.8.8"
  }
 },
 "nbformat": 4,
 "nbformat_minor": 4
}
