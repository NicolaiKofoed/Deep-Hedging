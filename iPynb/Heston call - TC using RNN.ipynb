{
 "cells": [
  {
   "cell_type": "markdown",
   "metadata": {},
   "source": [
    "# Packages"
   ]
  },
  {
   "cell_type": "code",
   "execution_count": 2,
   "metadata": {},
   "outputs": [],
   "source": [
    "import numpy as np\n",
    "import numpy.random as npr\n",
    "import tensorflow as tf\n",
    "from tensorflow import keras\n",
    "from scipy.stats import norm\n",
    "from keras.layers import Input, Dense, Concatenate, SimpleRNNCell, StackedRNNCells, RNN, LSTMCell\n",
    "from keras.models import Model\n",
    "from keras import backend as kb\n",
    "import matplotlib.pyplot as plt\n",
    "from matplotlib import cm\n",
    "from mpl_toolkits import mplot3d\n",
    "from mpl_toolkits.mplot3d import Axes3D\n",
    "from IPython.display import clear_output\n",
    "plt.style.use('ggplot')\n",
    "%run Fourier.ipynb # Imports some functions: Heston greeks and L(t,v)\n",
    "%run Neural_Networks.ipynb # Imports Neural Network\n",
    "%run Simulation.ipynb # Imports the function to simulate from the Heston model"
   ]
  },
  {
   "cell_type": "markdown",
   "metadata": {},
   "source": [
    "### Set the seed for reproducible results"
   ]
  },
  {
   "cell_type": "code",
   "execution_count": 5,
   "metadata": {},
   "outputs": [],
   "source": [
    "from numpy.random import seed\n",
    "seed(1)\n",
    "tf.random.set_seed(2)"
   ]
  },
  {
   "cell_type": "markdown",
   "metadata": {},
   "source": [
    "# Parameters "
   ]
  },
  {
   "cell_type": "code",
   "execution_count": 67,
   "metadata": {},
   "outputs": [],
   "source": [
    "# Model parameters \n",
    "S0 = 100\n",
    "K = 100\n",
    "V0 = 0.2**2\n",
    "mu = 0.1\n",
    "sigma = 0.3\n",
    "kappa = 1\n",
    "theta = 0.2**2\n",
    "rho = -0.7\n",
    "r = 0.05\n",
    "T = 30/365\n",
    "\n",
    "# Proportional transaction costs\n",
    "prop = 0.01\n",
    "\n",
    "# Simulation parameters\n",
    "steps = 30\n",
    "dt = T/steps\n",
    "n_train = 100000\n",
    "n_test = 10000\n",
    "#simulation_method = \"full truncation\" # Choose either \"full truncation\" or \"moment matching\" or load data in directly\n",
    "\n",
    "\n",
    "# Neural Network parameters\n",
    "epochs = 10\n",
    "learn_rate = 0.001\n",
    "batch_size = 100\n",
    "neurons = 200 # Number of neurons in hidden layers\n",
    "n_hidden_layers = 3 # Number of hidden layers\n",
    "n_inputs = 3 # time, logS(t) and the volatility\n",
    "n_outputs = 2 # delta1 and delta2\n",
    "RNN_type = \"LSTM\" # Choose either \"simple\" or \"LSTM\""
   ]
  },
  {
   "cell_type": "code",
   "execution_count": 27,
   "metadata": {},
   "outputs": [
    {
     "name": "stdout",
     "output_type": "stream",
     "text": [
      "2.4859242733097773\n"
     ]
    }
   ],
   "source": [
    "callprice = HestonFourier(spot=S0, timetoexp=T, strike=K, r=r, divyield=0, V=V0, theta=theta, kappa=kappa, sigma=sigma, rho=rho, greek=1)\n",
    "print(callprice)"
   ]
  },
  {
   "cell_type": "code",
   "execution_count": 28,
   "metadata": {},
   "outputs": [],
   "source": [
    "### For RNN\n",
    "\n",
    "time_grid = np.linspace(0,T,steps+1)\n",
    "\n",
    "S1_train = np.load(\"S1_train.npy\")\n",
    "V_train = np.load(\"V_train.npy\")\n",
    "S2_train = np.cumsum(np.load(\"intV_train.npy\"),axis=-1)+L(time_grid,V_train)\n",
    "\n",
    "dS1_train = np.diff(S1_train,1,1)\n",
    "dS2_train = np.diff(S2_train,1,1)\n",
    "\n",
    "# Append the two lists alternatingly\n",
    "dS_train = np.empty(shape=(n_train,2*steps))\n",
    "dS_train[:,::2] = dS1_train\n",
    "dS_train[:,1::2] = dS2_train\n",
    "dS_train = np.reshape(dS_train,(n_train,steps,2))\n",
    "\n",
    "# Creates training input for NN\n",
    "input_train = []\n",
    "time_hedge = np.reshape(time_grid[:-1],(steps,1))\n",
    "for i in range(n_train):\n",
    "    S1_input_train = np.reshape(np.log(S1_train[i,:-1])-np.log(S0),(steps,1))\n",
    "    V_input_train = np.reshape(V_train[i,:-1]-V0,(steps,1))\n",
    "    input_train.append(np.concatenate((time_hedge,S1_input_train,V_input_train),1))\n",
    "input_train = tf.stack(input_train)\n",
    "dS_train = tf.stack(dS_train)"
   ]
  },
  {
   "cell_type": "code",
   "execution_count": 29,
   "metadata": {},
   "outputs": [],
   "source": [
    "def value_pf(y_true,y_pred):\n",
    "    S1 = S0\n",
    "    S2 = L(0,V0)\n",
    "    dS1 = y_true[:,:,0]\n",
    "    dS2 = y_true[:,:,1]\n",
    "    delta1 = y_pred[:,:,0]\n",
    "    delta2 = y_pred[:,:,1]\n",
    "    Vpf = callprice \n",
    "    B = Vpf - delta1[:,0]*S1*(1+prop)-delta2[:,0]*S2*(1+prop)\n",
    "    for i in range(1,steps):\n",
    "        S1 += dS1[:,i-1]\n",
    "        S2 += dS2[:,i-1]\n",
    "        Vpf = delta1[:,i-1]*S1+delta2[:,i-1]*S2+B*kb.exp(r*dt)\n",
    "        tc = prop*S1*kb.abs(delta1[:,i]-delta1[:,i-1]) + prop*S2*kb.abs(delta2[:,i]-delta2[:,i-1])\n",
    "        B = Vpf - delta1[:,i]*S1 - delta2[:,i]*S2 - tc\n",
    "    S1 += dS1[:,-1]\n",
    "    S2 += dS2[:,-1]\n",
    "    Vpf = delta1[:,-1]*S1+delta2[:,-1]*S2+B*kb.exp(r*dt)\n",
    "    return Vpf\n",
    "        \n",
    "def loss_call(y_true,y_pred):\n",
    "    return (value_pf(y_true,y_pred) - kb.maximum(S0 + kb.sum(y_true[:,:,0],axis=-1) - K,0.))**2"
   ]
  },
  {
   "cell_type": "code",
   "execution_count": 70,
   "metadata": {},
   "outputs": [],
   "source": [
    "model = Recurrent_NN('linear',n_inputs,n_outputs,loss_call, learn_rate,neurons,n_hidden_layers,RNN_type)"
   ]
  },
  {
   "cell_type": "code",
   "execution_count": 9,
   "metadata": {},
   "outputs": [],
   "source": [
    "#model.summary()"
   ]
  },
  {
   "cell_type": "code",
   "execution_count": 71,
   "metadata": {
    "scrolled": true
   },
   "outputs": [
    {
     "name": "stdout",
     "output_type": "stream",
     "text": [
      "Epoch 1/10\n",
      "1000/1000 [==============================] - 743s 731ms/step - loss: 2.3124\n",
      "Epoch 2/10\n",
      "1000/1000 [==============================] - 733s 733ms/step - loss: 1.6850\n",
      "Epoch 3/10\n",
      "1000/1000 [==============================] - 724s 724ms/step - loss: 1.6363\n",
      "Epoch 4/10\n",
      "1000/1000 [==============================] - 731s 731ms/step - loss: 1.5961\n",
      "Epoch 5/10\n",
      "1000/1000 [==============================] - 725s 725ms/step - loss: 1.5723\n",
      "Epoch 6/10\n",
      "1000/1000 [==============================] - 727s 727ms/step - loss: 1.5511\n",
      "Epoch 7/10\n",
      "1000/1000 [==============================] - 727s 727ms/step - loss: 1.5455\n",
      "Epoch 8/10\n",
      "1000/1000 [==============================] - 750s 750ms/step - loss: 1.5373\n",
      "Epoch 9/10\n",
      "1000/1000 [==============================] - 788s 788ms/step - loss: 1.5307\n",
      "Epoch 10/10\n",
      "1000/1000 [==============================] - 805s 805ms/step - loss: 1.5259\n"
     ]
    },
    {
     "data": {
      "text/plain": [
       "<keras.callbacks.History at 0x7f207dac8e80>"
      ]
     },
     "execution_count": 71,
     "metadata": {},
     "output_type": "execute_result"
    }
   ],
   "source": [
    "model.fit(input_train,dS_train,batch_size=batch_size,epochs=epochs)"
   ]
  },
  {
   "cell_type": "code",
   "execution_count": 4,
   "metadata": {},
   "outputs": [],
   "source": [
    "#model.save('Heston LSTM TC')\n",
    "#model = tf.keras.models.load_model('Heston RNN TC', compile=False)"
   ]
  },
  {
   "cell_type": "markdown",
   "metadata": {},
   "source": [
    "# Test"
   ]
  },
  {
   "cell_type": "code",
   "execution_count": 73,
   "metadata": {},
   "outputs": [],
   "source": [
    "S1_test = np.load('S1_test.npy')\n",
    "S2_test = np.load('S2_test.npy')\n",
    "V_test = np.load('V_test.npy')"
   ]
  },
  {
   "cell_type": "code",
   "execution_count": 74,
   "metadata": {},
   "outputs": [],
   "source": [
    "# For RNN\n",
    "dS1_test = np.diff(S1_test,1,1)\n",
    "dS2_test = np.diff(S2_test,1,1)\n",
    "\n",
    "# Append the two lists alternatingly\n",
    "dS_test = np.empty(shape=(n_test,2*steps))\n",
    "dS_test[:,::2] = dS1_test\n",
    "dS_test[:,1::2] = dS2_test\n",
    "dS_test = np.reshape(dS_test, (n_test,steps,2))\n",
    "dS_train = tf.stack(dS_train)\n",
    "\n",
    "# Creates test input for NN\n",
    "input_test = []\n",
    "\n",
    "for i in range(n_test):\n",
    "    S1_input_test = np.reshape(np.log(S1_test[i,:-1])-np.log(S0),(steps,1))\n",
    "    V_input_test = np.reshape(V_test[i,:-1]-V0,(steps,1))\n",
    "    input_test.append(np.concatenate((time_hedge,S1_input_test,V_input_test),1))\n",
    "input_test = tf.stack(input_test)"
   ]
  },
  {
   "cell_type": "code",
   "execution_count": 75,
   "metadata": {},
   "outputs": [],
   "source": [
    "delta_NN_test = model.predict(input_test)\n",
    "delta1_NN_test = delta_NN_test[:,:,0]\n",
    "delta2_NN_test = delta_NN_test[:,:,1]\n",
    "\n",
    "Vpf_NN = callprice\n",
    "B = Vpf_NN - delta1_NN_test[:,0]*S1_test[:,0]*(1+prop)-delta2_NN_test[:,0]*S2_test[:,0]*(1+prop)\n",
    "for i in range(1,steps):\n",
    "    Vpf_NN = delta1_NN_test[:,i-1]*S1_test[:,i]+delta2_NN_test[:,i-1]*S2_test[:,i]+B*np.exp(r*dt)\n",
    "    tc1 = np.abs(delta1_NN_test[:,i]-delta1_NN_test[:,i-1])*S1_test[:,i]*prop\n",
    "    tc2 = np.abs(delta2_NN_test[:,i]-delta2_NN_test[:,i-1])*S2_test[:,i]*prop\n",
    "    B = Vpf_NN - delta1_NN_test[:,i]*S1_test[:,i]-delta2_NN_test[:,i]*S2_test[:,i]-tc1-tc2\n",
    "Vpf_NN = delta1_NN_test[:,-1]*S1_test[:,-1]+delta2_NN_test[:,-1]*S2_test[:,-1]+B*np.exp(r*dt)\n",
    "Vpf_NN = np.array(Vpf_NN)"
   ]
  },
  {
   "cell_type": "code",
   "execution_count": 76,
   "metadata": {},
   "outputs": [],
   "source": [
    "S1_grid2 = np.linspace(np.amin(S1_test[:,-1]),np.amax(S1_test[:,-1]),num=1000)\n",
    "value_call_grid = np.maximum(S1_grid2-K,0)\n",
    "value_call_true = np.maximum(S1_test[:,-1]-K,0)"
   ]
  },
  {
   "cell_type": "code",
   "execution_count": 77,
   "metadata": {},
   "outputs": [
    {
     "data": {
      "image/png": "[encoded data removed]",
      "text/plain": [
       "<Figure size 432x288 with 1 Axes>"
      ]
     },
     "metadata": {},
     "output_type": "display_data"
    }
   ],
   "source": [
    "PnL_NN = Vpf_NN - value_call_true\n",
    "MSE_NN = np.sum(PnL_NN**2)/n_test\n",
    "hedge_NN    = plt.plot(S1_test[:,-1],Vpf_NN, 'o', label=\"Value of hedge portfolio\")\n",
    "line_call = plt.plot(S1_grid2,value_call_grid, label=\"Call payoff\")\n",
    "plt.xlabel(\"S(T)\")\n",
    "plt.ylabel(\"Payoff\")\n",
    "plt.title(r'Strike: %1.2f' % K, loc='right', fontsize=11)\n",
    "plt.title(r'MSE: %1.4f' % MSE_NN, loc='left', fontsize=11)\n",
    "plt.legend(loc='upper left')\n",
    "\n",
    "plt.show()\n",
    "#plt.savefig(\"HestonHedge_NN_4hl200n10e1kpaths.png\", dpi=500,bbox_inches=\"tight\")"
   ]
  },
  {
   "cell_type": "code",
   "execution_count": 81,
   "metadata": {},
   "outputs": [
    {
     "data": {
      "image/png": "[encoded data removed]",
      "text/plain": [
       "<Figure size 720x480 with 1 Axes>"
      ]
     },
     "metadata": {},
     "output_type": "display_data"
    }
   ],
   "source": [
    "with plt.style.context(['classic', 'ggplot']):\n",
    "    plt.figure(figsize=(9,6))\n",
    "    plt.hist(PnL_NN,bins=50, range=(-4,1))\n",
    "    plt.title(r'MSE: %1.4f' % MSE_NN, loc='center', fontsize=11)\n",
    "    plt.xlabel(\"Profit & Loss\")\n",
    "    plt.ylim(0,600)\n",
    "plt.show()\n",
    "#plt.savefig(\"HestonPnL_NN_4hl200n10e1kpaths.png\", dpi=500,bbox_inches=\"tight\")"
   ]
  },
  {
   "cell_type": "markdown",
   "metadata": {},
   "source": [
    "# Comparison to hedging using model deltas"
   ]
  },
  {
   "cell_type": "code",
   "execution_count": 3,
   "metadata": {},
   "outputs": [],
   "source": [
    "# Either load deltas or calculate them (takes time)\n",
    "delta1_m_test = np.load('delta1_m_exact.npy')\n",
    "delta2_m_test = np.load('delta2_m_exact.npy')\n",
    "\n",
    "#delta1_m_test = np.empty([n_test,steps])\n",
    "#delta2_m_test = np.empty([n_test,steps])\n",
    "\n",
    "#for i in range(steps):\n",
    "#    delta1_m_test[:,i] = vdelta1(S1_test[:,i],V_test[:,i],i*dt)\n",
    "#    delta2_m_test[:,i] = vdelta2(S1_test[:,i],V_test[:,i],i*dt)\n",
    "#    counter += 1\n",
    "#    np.save('delta1_m_test',delta1_m_test)\n",
    "#    np.save('delta2_m_test',delta2_m_test)\n",
    "#    np.save('counter', counter)\n",
    "#    clear_output()\n",
    "#    print(str(i+1)+' of '+str(steps)+' completed')\n",
    "#print('Finished.')\n"
   ]
  },
  {
   "cell_type": "code",
   "execution_count": 43,
   "metadata": {},
   "outputs": [],
   "source": [
    "Vpf_m = callprice\n",
    "B = Vpf_m - delta1_m_test[:,0]*S1_test[:,0]*(1+prop)-delta2_m_test[:,0]*S2_test[:,0]*(1+prop)\n",
    "for i in range(1,steps):\n",
    "    Vpf_m = delta1_m_test[:,i-1]*S1_test[:,i]+delta2_m_test[:,i-1]*S2_test[:,i]+B*np.exp(r*dt)\n",
    "    tc1 = np.abs(delta1_m_test[:,i]-delta1_m_test[:,i-1])*S1_test[:,i]*prop\n",
    "    tc2 = np.abs(delta2_m_test[:,i]-delta2_m_test[:,i-1])*S2_test[:,i]*prop\n",
    "    B = Vpf_m - delta1_m_test[:,i]*S1_test[:,i]-delta2_m_test[:,i]*S2_test[:,i] -tc1 -tc2\n",
    "Vpf_m = delta1_m_test[:,-1]*S1_test[:,-1]+delta2_m_test[:,-1]*S2_test[:,-1]+B*np.exp(r*dt)"
   ]
  },
  {
   "cell_type": "code",
   "execution_count": 44,
   "metadata": {},
   "outputs": [
    {
     "data": {
      "image/png": "[encoded data removed]",
      "text/plain": [
       "<Figure size 432x288 with 1 Axes>"
      ]
     },
     "metadata": {},
     "output_type": "display_data"
    }
   ],
   "source": [
    "PnL_m = Vpf_m - value_call_true\n",
    "MSE_m = np.sum(PnL_m**2)/n_test\n",
    "hedge_m = plt.plot(S1_test[:,-1],Vpf_m, 'o', label=\"Value of hedge portfolio\")\n",
    "line_call = plt.plot(S1_grid2,value_call_grid, label=\"Call payoff\")\n",
    "plt.xlabel(\"S(T)\")\n",
    "plt.ylabel(\"Payoff\")\n",
    "plt.title(r'Strike: %1.2f' % K, loc='right', fontsize=11)\n",
    "plt.title(r'MSE: %1.4f' % MSE_m, loc='left', fontsize=11)\n",
    "plt.legend()\n",
    "\n",
    "plt.show()\n",
    "#plt.savefig(\"HestonHedge_m_4hl200n10e1kpaths.png\", dpi=500,bbox_inches=\"tight\")"
   ]
  },
  {
   "cell_type": "code",
   "execution_count": 45,
   "metadata": {
    "scrolled": false
   },
   "outputs": [
    {
     "data": {
      "image/png": "[encoded data removed]",
      "text/plain": [
       "<Figure size 720x480 with 1 Axes>"
      ]
     },
     "metadata": {},
     "output_type": "display_data"
    }
   ],
   "source": [
    "PnL_m = np.array(PnL_m)\n",
    "with plt.style.context(['classic', 'ggplot']):\n",
    "    plt.figure(figsize=(9,6))\n",
    "    plt.hist(PnL_m, bins=50)\n",
    "    plt.title(r'MSE: %1.4f' % MSE_m, loc='center', fontsize=11)\n",
    "    plt.xlabel(\"Profit & Loss\")\n",
    "    plt.ylim(0,850)\n",
    "plt.show()\n",
    "#plt.savefig(\"HestonPnL_m_4hl200n10e1kpaths.png\", dpi=500,bbox_inches=\"tight\")"
   ]
  },
  {
   "cell_type": "code",
   "execution_count": 96,
   "metadata": {},
   "outputs": [],
   "source": [
    "model_FF = tf.keras.models.load_model('Heston simple TC', compile=False)"
   ]
  },
  {
   "cell_type": "code",
   "execution_count": 87,
   "metadata": {},
   "outputs": [],
   "source": [
    "# Creates test input for NN\n",
    "input_FF = []\n",
    "\n",
    "for i in range(steps):\n",
    "    time_rep = np.repeat(time_grid[i],n_test)\n",
    "    time_rep = np.reshape(time_rep,(n_test,1))\n",
    "    S1_input_test = np.reshape(np.log(S1_test[:, i])-np.log(S0),(n_test,1))\n",
    "    V_input_test = np.reshape(V_test[:,i]-V0,(n_test,1))\n",
    "    input_FF.append(np.concatenate((time_rep,S1_input_test,V_input_test),1))"
   ]
  },
  {
   "cell_type": "code",
   "execution_count": 88,
   "metadata": {},
   "outputs": [],
   "source": [
    "delta_FF_test = model_FF.predict(input_FF)\n",
    "delta1_FF_test = delta_FF_test[:,::2]\n",
    "delta2_FF_test = delta_FF_test[:,1::2]\n",
    "\n",
    "Vpf_FF = callprice\n",
    "B = Vpf_FF - delta1_FF_test[:,0]*S1_test[:,0]*(1+prop)-delta2_FF_test[:,0]*S2_test[:,0]*(1+prop)\n",
    "for i in range(1,steps):\n",
    "    Vpf_FF = delta1_FF_test[:,i-1]*S1_test[:,i]+delta2_FF_test[:,i-1]*S2_test[:,i]+B*np.exp(r*dt)\n",
    "    tc1 = np.abs(delta1_FF_test[:,i]-delta1_FF_test[:,i-1])*S1_test[:,i]*prop\n",
    "    tc2 = np.abs(delta2_FF_test[:,i]-delta2_FF_test[:,i-1])*S2_test[:,i]*prop\n",
    "    B = Vpf_FF - delta1_FF_test[:,i]*S1_test[:,i]-delta2_FF_test[:,i]*S2_test[:,i]-tc1-tc2\n",
    "Vpf_FF = delta1_FF_test[:,-1]*S1_test[:,-1]+delta2_FF_test[:,-1]*S2_test[:,-1]+B*np.exp(r*dt)\n",
    "Vpf_FF = np.array(Vpf_FF)"
   ]
  },
  {
   "cell_type": "code",
   "execution_count": 89,
   "metadata": {},
   "outputs": [],
   "source": [
    "PnL_FF = Vpf_FF - value_call_true\n",
    "MSE_FF = np.sum(PnL_FF**2)/n_test"
   ]
  },
  {
   "cell_type": "code",
   "execution_count": 114,
   "metadata": {},
   "outputs": [
    {
     "data": {
      "image/png": "[encoded data removed]",
      "text/plain": [
       "<Figure size 720x480 with 1 Axes>"
      ]
     },
     "metadata": {},
     "output_type": "display_data"
    }
   ],
   "source": [
    "with plt.style.context(['classic','ggplot']):\n",
    "    plt.figure(figsize=(9,6))\n",
    "    bins = np.linspace(-5, 1, 30)\n",
    "    plt.hist([PnL_FF, PnL_NN], bins, label=['Feedforward', 'LSTM'])\n",
    "    plt.legend(loc='upper left')\n",
    "    plt.xlabel(\"Profit & Loss\")\n",
    "    plt.title(r'Feedforward MSE: %1.4f' % MSE_FF, loc='left', fontsize=13)\n",
    "    plt.title(r'LSTM MSE: %1.4f' % MSE_NN, loc='right', fontsize=13)\n",
    "    plt.ylim(0, 1200)\n",
    "plt.show()\n",
    "#plt.savefig('LSTM_PnL.png',dpi=500,bbox_inches=\"tight\")"
   ]
  },
  {
   "cell_type": "code",
   "execution_count": null,
   "metadata": {},
   "outputs": [],
   "source": []
  }
 ],
 "metadata": {
  "kernelspec": {
   "display_name": "Python 3",
   "language": "python",
   "name": "python3"
  },
  "language_info": {
   "codemirror_mode": {
    "name": "ipython",
    "version": 3
   },
   "file_extension": ".py",
   "mimetype": "text/x-python",
   "name": "python",
   "nbconvert_exporter": "python",
   "pygments_lexer": "ipython3",
   "version": "3.7.4"
  }
 },
 "nbformat": 4,
 "nbformat_minor": 4
}
